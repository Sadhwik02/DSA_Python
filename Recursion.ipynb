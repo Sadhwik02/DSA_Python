{
  "nbformat": 4,
  "nbformat_minor": 0,
  "metadata": {
    "colab": {
      "provenance": []
    },
    "kernelspec": {
      "name": "python3",
      "display_name": "Python 3"
    },
    "language_info": {
      "name": "python"
    }
  },
  "cells": [
    {
      "cell_type": "code",
      "execution_count": 12,
      "metadata": {
        "id": "P54s3LQ1TAwR",
        "colab": {
          "base_uri": "https://localhost:8080/"
        },
        "outputId": "f251e261-844d-4800-a742-00f4a1d0132c"
      },
      "outputs": [
        {
          "output_type": "stream",
          "name": "stdout",
          "text": [
            "0\n",
            "1\n",
            "2\n",
            "3\n",
            "4\n",
            "5\n",
            "6\n",
            "7\n",
            "8\n",
            "9\n",
            "10\n"
          ]
        }
      ],
      "source": [
        "#recursive function to print n numbers\n",
        "def rec_print(count,n):\n",
        "  if(count > n): # Corrected condition\n",
        "    return\n",
        "  print(count)\n",
        "  rec_print(count + 1,n) # Pass incremented count\n",
        "\n",
        "rec_print(0,10) # Start the count from 0"
      ]
    },
    {
      "cell_type": "code",
      "source": [
        "#recursive function to print name n times\n",
        "def rec_print(count,n,name):\n",
        "  if(count > n): # Corrected condition\n",
        "    return\n",
        "  print(name)\n",
        "  rec_print(count + 1,n,name) # Pass incremented count\n",
        "\n",
        "rec_print(1,10,\"Nani\") # Start the count from 0"
      ],
      "metadata": {
        "colab": {
          "base_uri": "https://localhost:8080/"
        },
        "id": "lmpMB0f2ocSo",
        "outputId": "04ffae07-2684-4ac3-e761-47f35864e4d9"
      },
      "execution_count": 11,
      "outputs": [
        {
          "output_type": "stream",
          "name": "stdout",
          "text": [
            "Nani\n",
            "Nani\n",
            "Nani\n",
            "Nani\n",
            "Nani\n",
            "Nani\n",
            "Nani\n",
            "Nani\n",
            "Nani\n",
            "Nani\n"
          ]
        }
      ]
    },
    {
      "cell_type": "code",
      "source": [
        "#recursive function to print n numbers reverse\n",
        "def rec_print(count,n):\n",
        "  if(count < 1): # Corrected condition\n",
        "    return\n",
        "  print(count)\n",
        "  rec_print(count - 1,n) # Pass incremented count\n",
        "\n",
        "rec_print(10,10) # Start the count from 0"
      ],
      "metadata": {
        "colab": {
          "base_uri": "https://localhost:8080/"
        },
        "id": "Dr4w3eGDo8MT",
        "outputId": "48721f68-0ac0-4067-8e39-40872a108adb"
      },
      "execution_count": 18,
      "outputs": [
        {
          "output_type": "stream",
          "name": "stdout",
          "text": [
            "10\n",
            "9\n",
            "8\n",
            "7\n",
            "6\n",
            "5\n",
            "4\n",
            "3\n",
            "2\n",
            "1\n"
          ]
        }
      ]
    },
    {
      "cell_type": "code",
      "source": [
        "#Sum of first n numbers\n",
        "def rec_sum(i,n,sum):\n",
        "  if(i == n): # Corrected condition\n",
        "    print(sum)\n",
        "    return\n",
        "  rec_sum(i + 1,n,sum+i) # Pass incremented count\n",
        "\n",
        "rec_sum(1,10,0)"
      ],
      "metadata": {
        "colab": {
          "base_uri": "https://localhost:8080/"
        },
        "id": "Xq3ZKszoquYE",
        "outputId": "b1949d76-15c3-49d8-8103-61e479a533ad"
      },
      "execution_count": 25,
      "outputs": [
        {
          "output_type": "stream",
          "name": "stdout",
          "text": [
            "45\n"
          ]
        }
      ]
    },
    {
      "cell_type": "code",
      "source": [
        "#Factorial\n",
        "def fact(n):\n",
        "  if(n==0):\n",
        "    return 1\n",
        "  elif(n==1):\n",
        "    return 1\n",
        "  return n*fact(n-1)\n",
        "print(fact(5))"
      ],
      "metadata": {
        "colab": {
          "base_uri": "https://localhost:8080/"
        },
        "id": "aJ3NklB4scgR",
        "outputId": "df2dc0f6-f90e-4442-b680-390da471d672"
      },
      "execution_count": 26,
      "outputs": [
        {
          "output_type": "stream",
          "name": "stdout",
          "text": [
            "120\n"
          ]
        }
      ]
    },
    {
      "cell_type": "code",
      "source": [
        "#Reverse an array\n",
        "def reverse_array(arr, start, end):\n",
        "    if start >= end:\n",
        "        return\n",
        "    arr[start], arr[end] = arr[end], arr[start]\n",
        "    reverse_array(arr, start + 1, end - 1)\n",
        "a=[1,2,3,4,5]\n",
        "reverse_array(a,0,4)\n",
        "print(a)"
      ],
      "metadata": {
        "colab": {
          "base_uri": "https://localhost:8080/"
        },
        "id": "x1VM6xTOs-8t",
        "outputId": "68443bd2-e295-4246-9ebe-0fc0fad265d6"
      },
      "execution_count": 29,
      "outputs": [
        {
          "output_type": "stream",
          "name": "stdout",
          "text": [
            "[5, 4, 3, 2, 1]\n"
          ]
        }
      ]
    },
    {
      "cell_type": "code",
      "source": [
        "#Palindrome\n",
        "def isPalindrome( s: str) -> bool:\n",
        "    i,j = 0,len(s)-1\n",
        "    while(i<=j):\n",
        "      if not s[i].lower().isalnum():\n",
        "          i+=1\n",
        "      elif not s[j].lower().isalnum():\n",
        "          j-=1\n",
        "      else:\n",
        "          if s[i].lower() != s[j].lower():\n",
        "            return False\n",
        "          i+=1\n",
        "          j-=1\n",
        "    return True\n",
        "print(isPalindrome(\"qwertyytrewq\"))"
      ],
      "metadata": {
        "colab": {
          "base_uri": "https://localhost:8080/"
        },
        "id": "gIQbvRAju-x_",
        "outputId": "a4df522c-71e1-41f1-fc25-7edc12f0c28a"
      },
      "execution_count": 31,
      "outputs": [
        {
          "output_type": "stream",
          "name": "stdout",
          "text": [
            "True\n"
          ]
        }
      ]
    },
    {
      "cell_type": "code",
      "source": [
        "#Fibonacci\n",
        "def fib(n: int) -> int:\n",
        "    if(n==0):\n",
        "        return 0\n",
        "    elif(n==1):\n",
        "        return 1\n",
        "    return fib(n-1)+fib(n-2)\n",
        "fib(6)"
      ],
      "metadata": {
        "colab": {
          "base_uri": "https://localhost:8080/"
        },
        "id": "Z5HAN4eU4o3h",
        "outputId": "a1c2d606-f8c9-4089-b784-b65d216cf83e"
      },
      "execution_count": 35,
      "outputs": [
        {
          "output_type": "execute_result",
          "data": {
            "text/plain": [
              "8"
            ]
          },
          "metadata": {},
          "execution_count": 35
        }
      ]
    }
  ]
}