{
  "nbformat": 4,
  "nbformat_minor": 0,
  "metadata": {
    "colab": {
      "provenance": []
    },
    "kernelspec": {
      "name": "python3",
      "display_name": "Python 3"
    },
    "language_info": {
      "name": "python"
    }
  },
  "cells": [
    {
      "cell_type": "code",
      "execution_count": null,
      "metadata": {
        "colab": {
          "base_uri": "https://localhost:8080/"
        },
        "id": "Jj74hl_Zd256",
        "outputId": "c9697fe5-ed29-4bb3-e953-3746cd4decad"
      },
      "outputs": [
        {
          "output_type": "stream",
          "name": "stdout",
          "text": [
            "*****\n",
            "\n",
            "*****\n",
            "\n",
            "*****\n",
            "\n",
            "*****\n",
            "\n",
            "*****\n",
            "\n"
          ]
        }
      ],
      "source": [
        "#Patterns\n",
        "def pattern(n):\n",
        "  for i in range(n):\n",
        "    for j in range(n):\n",
        "      print(\"*\",end=\"\")\n",
        "    print(\"\\n\")\n",
        "pattern(5)"
      ]
    },
    {
      "cell_type": "code",
      "source": [
        "def pattern(n):\n",
        "  for i in range(n):\n",
        "    for j in range(i+1):\n",
        "      print(\"*\",end=\"\")\n",
        "    print(\"\\n\")\n",
        "pattern(5)"
      ],
      "metadata": {
        "colab": {
          "base_uri": "https://localhost:8080/"
        },
        "id": "_BgDh1AIeeHG",
        "outputId": "1ca297ad-1c2f-4600-93ba-57d33ed9a7f2"
      },
      "execution_count": null,
      "outputs": [
        {
          "output_type": "stream",
          "name": "stdout",
          "text": [
            "*\n",
            "\n",
            "**\n",
            "\n",
            "***\n",
            "\n",
            "****\n",
            "\n",
            "*****\n",
            "\n"
          ]
        }
      ]
    },
    {
      "cell_type": "code",
      "source": [
        "def pattern(n):\n",
        "  for i in range(n):\n",
        "    for j in range(1,i+2):\n",
        "      print(j,end=\"\")\n",
        "    print(\"\\n\")\n",
        "pattern(5)"
      ],
      "metadata": {
        "colab": {
          "base_uri": "https://localhost:8080/"
        },
        "id": "nvkOphRggSmJ",
        "outputId": "8bf2b85e-2b2e-4472-8743-b8820926d47f"
      },
      "execution_count": null,
      "outputs": [
        {
          "output_type": "stream",
          "name": "stdout",
          "text": [
            "1\n",
            "\n",
            "12\n",
            "\n",
            "123\n",
            "\n",
            "1234\n",
            "\n",
            "12345\n",
            "\n"
          ]
        }
      ]
    },
    {
      "cell_type": "code",
      "source": [
        "def pattern(n):\n",
        "  for i in range(1,n+1):\n",
        "    for j in range(i):\n",
        "      print(i,end=\"\")\n",
        "    print(\"\\n\")\n",
        "pattern(5)"
      ],
      "metadata": {
        "colab": {
          "base_uri": "https://localhost:8080/"
        },
        "id": "dexyCNuZhAt1",
        "outputId": "93f0fc25-9d34-495f-8c9d-ca24c9cd6399"
      },
      "execution_count": null,
      "outputs": [
        {
          "output_type": "stream",
          "name": "stdout",
          "text": [
            "1\n",
            "\n",
            "22\n",
            "\n",
            "333\n",
            "\n",
            "4444\n",
            "\n",
            "55555\n",
            "\n"
          ]
        }
      ]
    },
    {
      "cell_type": "code",
      "source": [
        "def pattern(n):\n",
        "  for i in range(n):\n",
        "    for j in range(n-i):\n",
        "      print(\"*\",end=\"\")\n",
        "    print(\"\\n\")\n",
        "pattern(5)"
      ],
      "metadata": {
        "colab": {
          "base_uri": "https://localhost:8080/"
        },
        "id": "I2y8hDL7hSwF",
        "outputId": "8e1d1fff-e1ba-4d0e-c921-3849bf11fad0"
      },
      "execution_count": null,
      "outputs": [
        {
          "output_type": "stream",
          "name": "stdout",
          "text": [
            "*****\n",
            "\n",
            "****\n",
            "\n",
            "***\n",
            "\n",
            "**\n",
            "\n",
            "*\n",
            "\n"
          ]
        }
      ]
    },
    {
      "cell_type": "code",
      "source": [
        "def pattern(n):\n",
        "  for i in range(n):\n",
        "    for j in range(1,n-i+1):\n",
        "      print(j,end=\"\")\n",
        "    print(\"\\n\")\n",
        "pattern(5)"
      ],
      "metadata": {
        "colab": {
          "base_uri": "https://localhost:8080/"
        },
        "id": "xFvsOFqfi5sS",
        "outputId": "db880b6d-c2bc-48e8-b777-bfcedaf57236"
      },
      "execution_count": null,
      "outputs": [
        {
          "output_type": "stream",
          "name": "stdout",
          "text": [
            "12345\n",
            "\n",
            "1234\n",
            "\n",
            "123\n",
            "\n",
            "12\n",
            "\n",
            "1\n",
            "\n"
          ]
        }
      ]
    },
    {
      "cell_type": "code",
      "source": [
        "def pattern(n):\n",
        "  for i in range(n):\n",
        "    for j in range(n-i-1):#Spaces 4 3 2 1 0\n",
        "      print(\" \",end=\"\")\n",
        "    for j in range(2*i+1):#Stars 1 3 5 7\n",
        "      print(\"*\",end=\"\")\n",
        "    for j in range(n-i-1):#Spaces 4 3 2 1 0\n",
        "      print(\" \",end=\"\")\n",
        "    print(\"\\n\")\n",
        "pattern(5)"
      ],
      "metadata": {
        "colab": {
          "base_uri": "https://localhost:8080/"
        },
        "id": "o90vuFdvjEhZ",
        "outputId": "0d6c7719-ef5a-4a30-921f-4aab52d61f0d"
      },
      "execution_count": null,
      "outputs": [
        {
          "output_type": "stream",
          "name": "stdout",
          "text": [
            "____*____\n",
            "\n",
            "___***___\n",
            "\n",
            "__*****__\n",
            "\n",
            "_*******_\n",
            "\n",
            "*********\n",
            "\n"
          ]
        }
      ]
    },
    {
      "cell_type": "code",
      "source": [
        "def pattern(n):\n",
        "  for i in range(n):\n",
        "    for j in range(i):#Spaces 0 1 2 3 4\n",
        "      print(\" \",end=\"\")\n",
        "    for j in range(2*n-2*i-1):#Stars 9 7 5 3 1\n",
        "      print(\"*\",end=\"\")\n",
        "    for j in range(i):#Spaces 0 1 2 3 4\n",
        "      print(\" \",end=\"\")\n",
        "    print(\"\\n\")\n",
        "pattern(5)"
      ],
      "metadata": {
        "colab": {
          "base_uri": "https://localhost:8080/"
        },
        "id": "IZARkAf2l87j",
        "outputId": "affc0158-afdb-4857-e3c4-8bd7d5a2df2b"
      },
      "execution_count": null,
      "outputs": [
        {
          "output_type": "stream",
          "name": "stdout",
          "text": [
            "*********\n",
            "\n",
            " ******* \n",
            "\n",
            "  *****  \n",
            "\n",
            "   ***   \n",
            "\n",
            "    *    \n",
            "\n"
          ]
        }
      ]
    },
    {
      "cell_type": "code",
      "source": [
        "def pattern(n):\n",
        "  for i in range(n):\n",
        "    for j in range(n-i-1):#Spaces 4 3 2 1 0\n",
        "      print(\" \",end=\"\")\n",
        "    for j in range(2*i+1):#Stars 1 3 5 7\n",
        "      print(\"*\",end=\"\")\n",
        "    for j in range(n-i-1):#Spaces 4 3 2 1 0\n",
        "      print(\" \",end=\"\")\n",
        "    print(\"\\n\")\n",
        "  for i in range(n):\n",
        "    for j in range(i):#Spaces 0 1 2 3 4\n",
        "      print(\" \",end=\"\")\n",
        "    for j in range(2*n-2*i-1):#Stars 9 7 5 3 1\n",
        "      print(\"*\",end=\"\")\n",
        "    for j in range(i):#Spaces 0 1 2 3 4\n",
        "      print(\" \",end=\"\")\n",
        "    print(\"\\n\")\n",
        "pattern(5)"
      ],
      "metadata": {
        "colab": {
          "base_uri": "https://localhost:8080/"
        },
        "id": "8pEB0K32nDea",
        "outputId": "05782d19-9f8d-4f46-a7aa-dc7019af3ad2"
      },
      "execution_count": null,
      "outputs": [
        {
          "output_type": "stream",
          "name": "stdout",
          "text": [
            "    *    \n",
            "\n",
            "   ***   \n",
            "\n",
            "  *****  \n",
            "\n",
            " ******* \n",
            "\n",
            "*********\n",
            "\n",
            "*********\n",
            "\n",
            " ******* \n",
            "\n",
            "  *****  \n",
            "\n",
            "   ***   \n",
            "\n",
            "    *    \n",
            "\n"
          ]
        }
      ]
    },
    {
      "cell_type": "code",
      "source": [
        "def pattern(n):\n",
        "  for i in range(n):\n",
        "    for j in range(i):#Spaces 0 1 2 3 4\n",
        "      print(\" \",end=\"\")\n",
        "    for j in range(2*n-2*i-1):#Stars 9 7 5 3 1\n",
        "      print(\"*\",end=\"\")\n",
        "    for j in range(i):#Spaces 0 1 2 3 4\n",
        "      print(\" \",end=\"\")\n",
        "    print(\"\\n\")\n",
        "  for i in range(n):\n",
        "    for j in range(n-i-1):#Spaces 4 3 2 1 0\n",
        "      print(\" \",end=\"\")\n",
        "    for j in range(2*i+1):#Stars 1 3 5 7\n",
        "      print(\"*\",end=\"\")\n",
        "    for j in range(n-i-1):#Spaces 4 3 2 1 0\n",
        "      print(\" \",end=\"\")\n",
        "    print(\"\\n\")\n",
        "\n",
        "pattern(5)"
      ],
      "metadata": {
        "colab": {
          "base_uri": "https://localhost:8080/"
        },
        "id": "wtGb9W8ln1a_",
        "outputId": "6a81f0f5-f34b-490f-fb56-1fb2b1bc636f"
      },
      "execution_count": null,
      "outputs": [
        {
          "output_type": "stream",
          "name": "stdout",
          "text": [
            "*********\n",
            "\n",
            " ******* \n",
            "\n",
            "  *****  \n",
            "\n",
            "   ***   \n",
            "\n",
            "    *    \n",
            "\n",
            "    *    \n",
            "\n",
            "   ***   \n",
            "\n",
            "  *****  \n",
            "\n",
            " ******* \n",
            "\n",
            "*********\n",
            "\n"
          ]
        }
      ]
    },
    {
      "cell_type": "code",
      "source": [
        "def pattern(n):\n",
        "  for i in range(1,2*n):\n",
        "    stars = i\n",
        "    if(i>n): stars = 2*n-i\n",
        "    for j in range(stars):\n",
        "      print(\"*\",end=\"\")\n",
        "    print(\"\\n\")\n",
        "pattern(5)"
      ],
      "metadata": {
        "colab": {
          "base_uri": "https://localhost:8080/"
        },
        "id": "pHfKy7TQn-5x",
        "outputId": "a405487a-2a5d-4f8a-d33b-f926858bfd1a"
      },
      "execution_count": null,
      "outputs": [
        {
          "output_type": "stream",
          "name": "stdout",
          "text": [
            "*\n",
            "\n",
            "**\n",
            "\n",
            "***\n",
            "\n",
            "****\n",
            "\n",
            "*****\n",
            "\n",
            "****\n",
            "\n",
            "***\n",
            "\n",
            "**\n",
            "\n",
            "*\n",
            "\n"
          ]
        }
      ]
    },
    {
      "cell_type": "code",
      "source": [
        "def pattern(n):\n",
        "  for i in range(n):\n",
        "    if(i%2==0):\n",
        "      start = 1\n",
        "    else:\n",
        "      start = 0\n",
        "    for j in range(1,i+2):\n",
        "      print(start,end=\"\")\n",
        "      start = 1-start\n",
        "    print(\"\\n\")\n",
        "pattern(5)"
      ],
      "metadata": {
        "colab": {
          "base_uri": "https://localhost:8080/"
        },
        "id": "EtDYgmW7ogOV",
        "outputId": "2d21d95a-9cb9-429f-8637-37923d86472f"
      },
      "execution_count": null,
      "outputs": [
        {
          "output_type": "stream",
          "name": "stdout",
          "text": [
            "1\n",
            "\n",
            "01\n",
            "\n",
            "101\n",
            "\n",
            "0101\n",
            "\n",
            "10101\n",
            "\n"
          ]
        }
      ]
    },
    {
      "cell_type": "code",
      "source": [
        "def pattern(n):\n",
        "  for i in range(1,n+1):\n",
        "    for j in range(1,i+1):\n",
        "      print(j,end=\"\")\n",
        "    if(i!=n):\n",
        "      print(' ' *(n-i)*2,end=\"\")\n",
        "    for j in range(i,0,-1):\n",
        "      print(j,end=\"\")\n",
        "    print(\"\\n\")\n",
        "pattern(5)"
      ],
      "metadata": {
        "colab": {
          "base_uri": "https://localhost:8080/"
        },
        "id": "TxyF_epEsSjd",
        "outputId": "b6425eda-cce3-4e07-8107-9295b733710a"
      },
      "execution_count": null,
      "outputs": [
        {
          "output_type": "stream",
          "name": "stdout",
          "text": [
            "1        1\n",
            "\n",
            "12      21\n",
            "\n",
            "123    321\n",
            "\n",
            "1234  4321\n",
            "\n",
            "1234554321\n",
            "\n"
          ]
        }
      ]
    },
    {
      "cell_type": "code",
      "source": [
        "def pattern(n):\n",
        "  c=1\n",
        "  for i in range(n):\n",
        "    for j in range(i+1):\n",
        "      print(c,end=\" \")\n",
        "      c+=1\n",
        "    print(\"\\n\")\n",
        "pattern(5)"
      ],
      "metadata": {
        "colab": {
          "base_uri": "https://localhost:8080/"
        },
        "id": "Onkfu-WEeSLR",
        "outputId": "7abeb031-022c-4659-caf9-31d2c4d3b433"
      },
      "execution_count": null,
      "outputs": [
        {
          "output_type": "stream",
          "name": "stdout",
          "text": [
            "1 \n",
            "\n",
            "2 3 \n",
            "\n",
            "4 5 6 \n",
            "\n",
            "7 8 9 10 \n",
            "\n",
            "11 12 13 14 15 \n",
            "\n"
          ]
        }
      ]
    },
    {
      "cell_type": "code",
      "source": [
        "def pattern(n):\n",
        "  for i in range(n):\n",
        "    ch=65\n",
        "    for j in range(i+1):\n",
        "      print(chr(ch),end=\"\")\n",
        "      ch+=1\n",
        "    print(\"\\n\")\n",
        "pattern(5)"
      ],
      "metadata": {
        "id": "XbBUaVv9fmXC",
        "outputId": "f88aacd9-a96e-49d7-d65e-cfb93f55e104",
        "colab": {
          "base_uri": "https://localhost:8080/"
        }
      },
      "execution_count": null,
      "outputs": [
        {
          "output_type": "stream",
          "name": "stdout",
          "text": [
            "A\n",
            "\n",
            "AB\n",
            "\n",
            "ABC\n",
            "\n",
            "ABCD\n",
            "\n",
            "ABCDE\n",
            "\n"
          ]
        }
      ]
    },
    {
      "cell_type": "code",
      "source": [
        "def pattern(n):\n",
        "  for i in range(n):\n",
        "    ch=65\n",
        "    for j in range(1,n-i+1):\n",
        "      print(chr(ch),end=\"\")\n",
        "      ch+=1\n",
        "    print(\"\\n\")\n",
        "pattern(5)"
      ],
      "metadata": {
        "colab": {
          "base_uri": "https://localhost:8080/"
        },
        "id": "FQ23gPx3dNu3",
        "outputId": "cbdaa933-ef07-496b-dabd-1404c211a2b2"
      },
      "execution_count": null,
      "outputs": [
        {
          "output_type": "stream",
          "name": "stdout",
          "text": [
            "ABCDE\n",
            "\n",
            "ABCD\n",
            "\n",
            "ABC\n",
            "\n",
            "AB\n",
            "\n",
            "A\n",
            "\n"
          ]
        }
      ]
    },
    {
      "cell_type": "code",
      "source": [
        "def pattern(n):\n",
        "  ch = 65\n",
        "  for i in range(n):\n",
        "    for j in range(1,n-i+1):\n",
        "      print(chr(ch),end=\"\")\n",
        "    ch+=1\n",
        "    print(\"\\n\")\n",
        "pattern(5)"
      ],
      "metadata": {
        "colab": {
          "base_uri": "https://localhost:8080/"
        },
        "id": "wxMYSsJudai7",
        "outputId": "880ffbc0-0033-4c55-b01b-86da36ebc5f2"
      },
      "execution_count": null,
      "outputs": [
        {
          "output_type": "stream",
          "name": "stdout",
          "text": [
            "AAAAA\n",
            "\n",
            "BBBB\n",
            "\n",
            "CCC\n",
            "\n",
            "DD\n",
            "\n",
            "E\n",
            "\n"
          ]
        }
      ]
    },
    {
      "cell_type": "code",
      "source": [
        "def pattern(n):\n",
        "  ch=65\n",
        "  for i in range(n):\n",
        "    for j in range(i+1):\n",
        "      print(chr(ch),end=\"\")\n",
        "    ch+=1\n",
        "    print(\"\\n\")\n",
        "pattern(5)"
      ],
      "metadata": {
        "colab": {
          "base_uri": "https://localhost:8080/"
        },
        "id": "FFJzMuy4GsWf",
        "outputId": "bfca7853-69df-43d4-a23a-73d1d88287e6"
      },
      "execution_count": null,
      "outputs": [
        {
          "output_type": "stream",
          "name": "stdout",
          "text": [
            "A\n",
            "\n",
            "BB\n",
            "\n",
            "CCC\n",
            "\n",
            "DDDD\n",
            "\n",
            "EEEEE\n",
            "\n"
          ]
        }
      ]
    },
    {
      "cell_type": "code",
      "source": [
        "def pattern(n):\n",
        "\n",
        "  for i in range(n):\n",
        "    for j in range(n-i-1):\n",
        "      print(\" \",end=\"\")\n",
        "    ch=65\n",
        "    bp = (2*i+1)/2\n",
        "    for j in range(2*i+1):\n",
        "      print(chr(ch),end=\"\")\n",
        "      if j<=bp: ch+=1\n",
        "      else: ch-=1\n",
        "    for j in range(n-i-1):\n",
        "      print(\" \",end=\"\")\n",
        "    print(\"\\n\")\n",
        "pattern(5)"
      ],
      "metadata": {
        "colab": {
          "base_uri": "https://localhost:8080/"
        },
        "id": "it0X0IyWG1-5",
        "outputId": "a8ab17be-f2e0-4a3f-ac93-65a1b2482a8c"
      },
      "execution_count": null,
      "outputs": [
        {
          "output_type": "stream",
          "name": "stdout",
          "text": [
            "    A    \n",
            "\n",
            "   ABC   \n",
            "\n",
            "  ABCDC  \n",
            "\n",
            " ABCDEDC \n",
            "\n",
            "ABCDEFEDC\n",
            "\n"
          ]
        }
      ]
    },
    {
      "cell_type": "code",
      "source": [],
      "metadata": {
        "id": "A_6umLkoUN1w"
      },
      "execution_count": null,
      "outputs": []
    }
  ]
}