{
  "nbformat": 4,
  "nbformat_minor": 0,
  "metadata": {
    "colab": {
      "provenance": []
    },
    "kernelspec": {
      "name": "python3",
      "display_name": "Python 3"
    },
    "language_info": {
      "name": "python"
    }
  },
  "cells": [
    {
      "cell_type": "code",
      "execution_count": null,
      "metadata": {
        "colab": {
          "base_uri": "https://localhost:8080/"
        },
        "id": "lp2lNHBcGK6U",
        "outputId": "52378f8b-0684-4fec-9885-56eace3ef383"
      },
      "outputs": [
        {
          "output_type": "stream",
          "name": "stdout",
          "text": [
            "7\n"
          ]
        }
      ],
      "source": [
        "#Count digits\n",
        "def countDigit(n):\n",
        "    c=0\n",
        "    while(n>0):\n",
        "        digit = n%10\n",
        "        n//=10\n",
        "        c+=1\n",
        "    return c\n",
        "print(countDigit(8080808))"
      ]
    },
    {
      "cell_type": "code",
      "source": [
        "#Reverse Number\n",
        "class Solution:\n",
        "    def reverse(x: int) -> int:\n",
        "        rev_num=0\n",
        "        if x > 2 ** 31 - 1 or x < -2 ** 31:\n",
        "            return 0\n",
        "        if(x<0):\n",
        "            n = -1*x\n",
        "        else:\n",
        "            n = x\n",
        "        while(n>0):\n",
        "            digit = n%10\n",
        "            rev_num=rev_num*10+digit\n",
        "            n//=10\n",
        "        if rev_num > 2 ** 31 - 1 or rev_num < -2 ** 31:\n",
        "            return 0\n",
        "        if(x<0):\n",
        "            return rev_num*-1\n",
        "        return rev_num\n",
        "    print(reverse(-123))"
      ],
      "metadata": {
        "id": "SttcibG1G3tP",
        "colab": {
          "base_uri": "https://localhost:8080/"
        },
        "outputId": "d9720203-a046-4f07-99e2-5414f4556a53"
      },
      "execution_count": 35,
      "outputs": [
        {
          "output_type": "stream",
          "name": "stdout",
          "text": [
            "-321\n"
          ]
        }
      ]
    },
    {
      "cell_type": "code",
      "source": [
        "#Reverse Number\n",
        "def reverse(x: int) -> int:\n",
        "    if(x<0):\n",
        "        res= int(str(x)[1:][::-1])*-1\n",
        "    else:\n",
        "        res= int(str(x)[::-1])\n",
        "    if res > 2 ** 31 - 1 or res < -2 ** 31:\n",
        "        return 0\n",
        "    return res\n",
        "print(reverse(-123))"
      ],
      "metadata": {
        "id": "UKjydXseHikK",
        "colab": {
          "base_uri": "https://localhost:8080/"
        },
        "outputId": "6208a1e9-510f-4acb-efad-6bfdf5a0f8ad"
      },
      "execution_count": 37,
      "outputs": [
        {
          "output_type": "stream",
          "name": "stdout",
          "text": [
            "-321\n"
          ]
        }
      ]
    },
    {
      "cell_type": "code",
      "source": [
        "#Palindrome\n",
        "class Solution:\n",
        "    def isPalindrome(x: int) -> bool:\n",
        "        s = str(x)\n",
        "        if s==s[::-1]:\n",
        "            return True\n",
        "        return False\n",
        "    print(isPalindrome(121))\n",
        ""
      ],
      "metadata": {
        "colab": {
          "base_uri": "https://localhost:8080/"
        },
        "id": "8NU0FyVKgRdi",
        "outputId": "302dd4d0-4931-45d5-f88f-18e07916cb56"
      },
      "execution_count": 38,
      "outputs": [
        {
          "output_type": "stream",
          "name": "stdout",
          "text": [
            "True\n"
          ]
        }
      ]
    },
    {
      "cell_type": "code",
      "source": [
        "#GCD\n",
        "def gcd(a,b):\n",
        "  if(b==0):\n",
        "    return a\n",
        "  else:\n",
        "    return gcd(b,a%b)\n",
        "gcd(4,6)"
      ],
      "metadata": {
        "colab": {
          "base_uri": "https://localhost:8080/"
        },
        "id": "NwoqgbjbgeY3",
        "outputId": "2a6b86ce-85ee-41ec-cbd0-c3d903880c28"
      },
      "execution_count": 18,
      "outputs": [
        {
          "output_type": "execute_result",
          "data": {
            "text/plain": [
              "2"
            ]
          },
          "metadata": {},
          "execution_count": 18
        }
      ]
    },
    {
      "cell_type": "code",
      "source": [
        "#Divisors\n",
        "import math\n",
        "def divisors(n):\n",
        "  div = []\n",
        "  sqrt = int(math.sqrt(n))\n",
        "  for i in range(1,sqrt+1):\n",
        "    if n%i==0:\n",
        "      div.append(i)\n",
        "      if i!=n//i:\n",
        "        div.append(n//i)\n",
        "  return div\n",
        "divisors(12)"
      ],
      "metadata": {
        "colab": {
          "base_uri": "https://localhost:8080/"
        },
        "id": "UJgp9szSjGJW",
        "outputId": "75a7e964-6fd6-4055-8510-90eec6c980a4"
      },
      "execution_count": 21,
      "outputs": [
        {
          "output_type": "execute_result",
          "data": {
            "text/plain": [
              "[1, 12, 2, 6, 3, 4]"
            ]
          },
          "metadata": {},
          "execution_count": 21
        }
      ]
    },
    {
      "cell_type": "code",
      "source": [
        "#Prime\n",
        "import math\n",
        "def prime(n):\n",
        "  c=0\n",
        "  for i in range(1,int(math.sqrt(n))+1):\n",
        "    if n%i==0:\n",
        "      c+=1\n",
        "      if i!=n//i:\n",
        "        c+=1\n",
        "  if c==2:\n",
        "    return True\n",
        "  return False\n",
        "prime(47)"
      ],
      "metadata": {
        "colab": {
          "base_uri": "https://localhost:8080/"
        },
        "id": "NVxc3WxeolsL",
        "outputId": "57ade3de-7d57-4e9f-adec-9310fd51df8d"
      },
      "execution_count": 33,
      "outputs": [
        {
          "output_type": "execute_result",
          "data": {
            "text/plain": [
              "True"
            ]
          },
          "metadata": {},
          "execution_count": 33
        }
      ]
    }
  ]
}